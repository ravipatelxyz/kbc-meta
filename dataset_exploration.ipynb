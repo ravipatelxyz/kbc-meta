{
 "cells": [
  {
   "cell_type": "code",
   "execution_count": 49,
   "metadata": {
    "execution": {
     "iopub.execute_input": "2021-06-29T12:19:11.136996Z",
     "iopub.status.busy": "2021-06-29T12:19:11.136996Z",
     "iopub.status.idle": "2021-06-29T12:19:11.142997Z",
     "shell.execute_reply": "2021-06-29T12:19:11.142997Z",
     "shell.execute_reply.started": "2021-06-29T12:19:11.136996Z"
    }
   },
   "outputs": [],
   "source": [
    "# imports\n",
    "\n",
    "import numpy as np\n",
    "import pandas as pd\n",
    "import matplotlib.pyplot as plt\n",
    "import seaborn as sns\n",
    "from os.path import splitext\n",
    "from typing import Optional, List, Tuple, Dict"
   ]
  },
  {
   "cell_type": "code",
   "execution_count": 13,
   "metadata": {
    "execution": {
     "iopub.execute_input": "2021-06-29T11:42:19.842009Z",
     "iopub.status.busy": "2021-06-29T11:42:19.842009Z",
     "iopub.status.idle": "2021-06-29T11:42:19.853007Z",
     "shell.execute_reply": "2021-06-29T11:42:19.853007Z",
     "shell.execute_reply.started": "2021-06-29T11:42:19.842009Z"
    }
   },
   "outputs": [],
   "source": [
    "# functions\n",
    "\n",
    "def read_triples(path: str) -> List[Tuple[str, str, str]]:\n",
    "    triples = []\n",
    "\n",
    "    tmp = splitext(path)\n",
    "    ext = tmp[1] if len(tmp) > 1 else None\n",
    "\n",
    "    with open(path, 'rt') as f:\n",
    "        for line in f.readlines():\n",
    "            if ext is not None and ext.lower() == '.tsv':\n",
    "                s, p, o = line.split('\\t')\n",
    "            else:\n",
    "                s, p, o = line.split()\n",
    "            triples += [(s.strip(), p.strip(), o.strip())]\n",
    "    return triples"
   ]
  },
  {
   "cell_type": "code",
   "execution_count": 113,
   "metadata": {
    "execution": {
     "iopub.execute_input": "2021-06-29T13:34:08.104382Z",
     "iopub.status.busy": "2021-06-29T13:34:08.103382Z",
     "iopub.status.idle": "2021-06-29T13:34:08.138494Z",
     "shell.execute_reply": "2021-06-29T13:34:08.138494Z",
     "shell.execute_reply.started": "2021-06-29T13:34:08.104382Z"
    }
   },
   "outputs": [],
   "source": [
    "# load dataset\n",
    "\n",
    "DATASET = \"umls\"\n",
    "\n",
    "triples_train = read_triples(f\"./data/{DATASET}/train.tsv\")\n",
    "triples_dev = read_triples(f\"./data/{DATASET}/dev.tsv\")\n",
    "triples_test = read_triples(f\"./data/{DATASET}/test.tsv\")\n",
    "triples_all = triples_train + triples_dev + triples_test"
   ]
  },
  {
   "cell_type": "code",
   "execution_count": 114,
   "metadata": {
    "execution": {
     "iopub.execute_input": "2021-06-29T13:34:08.263495Z",
     "iopub.status.busy": "2021-06-29T13:34:08.263495Z",
     "iopub.status.idle": "2021-06-29T13:34:08.297508Z",
     "shell.execute_reply": "2021-06-29T13:34:08.296497Z",
     "shell.execute_reply.started": "2021-06-29T13:34:08.263495Z"
    }
   },
   "outputs": [],
   "source": [
    "# make set set of entities and predicates, and count number of each\n",
    "\n",
    "def get_kg_stats_dict(triples, split_str):\n",
    "    subject_set = {s for (s, _, _) in triples}\n",
    "    object_set = {o for (_, _, o) in triples}\n",
    "    entity_set = subject_set | object_set\n",
    "    relation_set = {p for (_, p, _) in triples}\n",
    "    \n",
    "    stats = {\"Split\": split_str,\n",
    "            \"Entities count\": len(entity_set),\n",
    "            \"Subjects count\": len(subject_set),\n",
    "            \"Objects count\": len(object_set),\n",
    "            \"Relations count\": len(relation_set),\n",
    "            \"Triples count\": len(triples)\n",
    "            }\n",
    "    \n",
    "    return stats\n",
    "\n",
    "def get_kg_stats_df(triples_all, triples_train, triples_dev, triples_test):\n",
    "    \n",
    "    stats_all = get_kg_stats(triples_all, \"all\")\n",
    "    stats_train = get_kg_stats(triples_train, \"train\")\n",
    "    stats_dev = get_kg_stats(triples_dev, \"dev\")\n",
    "    stats_test = get_kg_stats(triples_test, \"test\")\n",
    "    \n",
    "    df_stats = pd.DataFrame()\n",
    "    for stats_dict in [stats_all, stats_train, stats_dev, stats_test]:\n",
    "        df_stats = df_stats.append(stats_dict, ignore_index=True)\n",
    "    \n",
    "    return df_stats\n",
    "    \n",
    "df_stats = tabulate_kg_stats(triples_all, triples_train, triples_dev, triples_test)"
   ]
  },
  {
   "cell_type": "code",
   "execution_count": 115,
   "metadata": {
    "execution": {
     "iopub.execute_input": "2021-06-29T13:34:08.441273Z",
     "iopub.status.busy": "2021-06-29T13:34:08.441273Z",
     "iopub.status.idle": "2021-06-29T13:34:08.456283Z",
     "shell.execute_reply": "2021-06-29T13:34:08.455273Z",
     "shell.execute_reply.started": "2021-06-29T13:34:08.441273Z"
    }
   },
   "outputs": [
    {
     "data": {
      "text/html": [
       "<div>\n",
       "<style scoped>\n",
       "    .dataframe tbody tr th:only-of-type {\n",
       "        vertical-align: middle;\n",
       "    }\n",
       "\n",
       "    .dataframe tbody tr th {\n",
       "        vertical-align: top;\n",
       "    }\n",
       "\n",
       "    .dataframe thead th {\n",
       "        text-align: right;\n",
       "    }\n",
       "</style>\n",
       "<table border=\"1\" class=\"dataframe\">\n",
       "  <thead>\n",
       "    <tr style=\"text-align: right;\">\n",
       "      <th></th>\n",
       "      <th>Entities count</th>\n",
       "      <th>Objects count</th>\n",
       "      <th>Relations count</th>\n",
       "      <th>Split</th>\n",
       "      <th>Subjects count</th>\n",
       "      <th>Triples count</th>\n",
       "    </tr>\n",
       "  </thead>\n",
       "  <tbody>\n",
       "    <tr>\n",
       "      <th>0</th>\n",
       "      <td>135.0</td>\n",
       "      <td>132.0</td>\n",
       "      <td>46.0</td>\n",
       "      <td>all</td>\n",
       "      <td>135.0</td>\n",
       "      <td>6529.0</td>\n",
       "    </tr>\n",
       "    <tr>\n",
       "      <th>1</th>\n",
       "      <td>135.0</td>\n",
       "      <td>132.0</td>\n",
       "      <td>46.0</td>\n",
       "      <td>train</td>\n",
       "      <td>135.0</td>\n",
       "      <td>5216.0</td>\n",
       "    </tr>\n",
       "    <tr>\n",
       "      <th>2</th>\n",
       "      <td>131.0</td>\n",
       "      <td>112.0</td>\n",
       "      <td>36.0</td>\n",
       "      <td>dev</td>\n",
       "      <td>120.0</td>\n",
       "      <td>652.0</td>\n",
       "    </tr>\n",
       "    <tr>\n",
       "      <th>3</th>\n",
       "      <td>131.0</td>\n",
       "      <td>109.0</td>\n",
       "      <td>36.0</td>\n",
       "      <td>test</td>\n",
       "      <td>116.0</td>\n",
       "      <td>661.0</td>\n",
       "    </tr>\n",
       "  </tbody>\n",
       "</table>\n",
       "</div>"
      ],
      "text/plain": [
       "   Entities count  Objects count  Relations count  Split  Subjects count  \\\n",
       "0           135.0          132.0             46.0    all           135.0   \n",
       "1           135.0          132.0             46.0  train           135.0   \n",
       "2           131.0          112.0             36.0    dev           120.0   \n",
       "3           131.0          109.0             36.0   test           116.0   \n",
       "\n",
       "   Triples count  \n",
       "0         6529.0  \n",
       "1         5216.0  \n",
       "2          652.0  \n",
       "3          661.0  "
      ]
     },
     "execution_count": 115,
     "metadata": {},
     "output_type": "execute_result"
    }
   ],
   "source": [
    "df_stats"
   ]
  },
  {
   "cell_type": "code",
   "execution_count": 116,
   "metadata": {
    "execution": {
     "iopub.execute_input": "2021-06-29T13:34:08.630009Z",
     "iopub.status.busy": "2021-06-29T13:34:08.630009Z",
     "iopub.status.idle": "2021-06-29T13:34:08.645007Z",
     "shell.execute_reply": "2021-06-29T13:34:08.645007Z",
     "shell.execute_reply.started": "2021-06-29T13:34:08.630009Z"
    }
   },
   "outputs": [
    {
     "name": "stdout",
     "output_type": "stream",
     "text": [
      "Number of duplicated triples: 0\n"
     ]
    }
   ],
   "source": [
    "# Check for fully duplicated triples\n",
    "\n",
    "print(f\"Number of duplicated triples: {len(triples_all)-len(set(triples_all))}\")"
   ]
  },
  {
   "cell_type": "code",
   "execution_count": 117,
   "metadata": {
    "execution": {
     "iopub.execute_input": "2021-06-29T13:34:09.113032Z",
     "iopub.status.busy": "2021-06-29T13:34:09.113032Z",
     "iopub.status.idle": "2021-06-29T13:34:09.131033Z",
     "shell.execute_reply": "2021-06-29T13:34:09.130039Z",
     "shell.execute_reply.started": "2021-06-29T13:34:09.113032Z"
    }
   },
   "outputs": [
    {
     "name": "stdout",
     "output_type": "stream",
     "text": [
      "Data split overlaps via symmetric triples, i.e. triples with same relation but entities swapped\n",
      "\n",
      "train-dev: 81/5216\n",
      "train-test: 97/5216\n",
      "dev_test: 9/652\n"
     ]
    }
   ],
   "source": [
    "print(\"Data split overlaps via symmetric triples, i.e. triples with same relation but entities swapped\\n\")\n",
    "\n",
    "# train-dev overlap via inverse relations (number of train triples for which the exact inverse exists in dev set)\n",
    "inverted_dev = [(o, p, s) for (s, p, o) in triples_dev]\n",
    "print(f\"train-dev: {len(set(triples_train) & set(inverted_dev))}/{len(triples_train)}\")\n",
    "\n",
    "# train-test overlap via inverse relations (number of train triples for which the exact inverse exists in test set)\n",
    "inverted_test = [(o, p, s) for (s, p, o) in triples_test]\n",
    "print(f\"train-test: {len(set(triples_train) & set(inverted_test))}/{len(triples_train)}\")\n",
    "\n",
    "# dev-test overlap via inverse relations (number of dev triples for which the exact inverse exists in test set)\n",
    "print(f\"dev_test: {len(set(triples_dev) & set(inverted_test))}/{len(triples_dev)}\")"
   ]
  },
  {
   "cell_type": "code",
   "execution_count": 139,
   "metadata": {
    "execution": {
     "iopub.execute_input": "2021-06-29T13:49:37.944920Z",
     "iopub.status.busy": "2021-06-29T13:49:37.944920Z",
     "iopub.status.idle": "2021-06-29T13:49:38.043918Z",
     "shell.execute_reply": "2021-06-29T13:49:38.042951Z",
     "shell.execute_reply.started": "2021-06-29T13:49:37.944920Z"
    }
   },
   "outputs": [],
   "source": [
    "# count frequencies of each entity and predicate, make df of number of each\n",
    "\n",
    "def get_entity_relation_frequencies(triples):\n",
    "    subject_set = {s for (s, _, _) in triples}\n",
    "    object_set = {o for (_, _, o) in triples}\n",
    "    entity_set = subject_set | object_set\n",
    "    relation_set = {p for (_, p, _) in triples}\n",
    "    \n",
    "    entity_counts = {}        \n",
    "    for entity in entity_set:\n",
    "        entity_counts[entity] = 0\n",
    "        for triple in triples:\n",
    "            if entity == triple[0] or entity == triple[2]:\n",
    "                entity_counts[entity] += 1\n",
    "    \n",
    "    relation_counts = {}        \n",
    "    for relation in relation_set:\n",
    "        relation_counts[relation] = 0\n",
    "        for triple in triples:\n",
    "            if relation == triple[1]:\n",
    "                relation_counts[relation] += 1\n",
    "    \n",
    "    return entity_counts, relation_counts\n",
    "\n",
    "entity_counts_train, relation_counts_train = get_entity_relation_frequencies(triples_train)"
   ]
  },
  {
   "cell_type": "code",
   "execution_count": 166,
   "metadata": {
    "execution": {
     "iopub.execute_input": "2021-06-29T14:00:22.888521Z",
     "iopub.status.busy": "2021-06-29T14:00:22.888521Z",
     "iopub.status.idle": "2021-06-29T14:00:22.905116Z",
     "shell.execute_reply": "2021-06-29T14:00:22.903117Z",
     "shell.execute_reply.started": "2021-06-29T14:00:22.888521Z"
    }
   },
   "outputs": [
    {
     "data": {
      "text/html": [
       "<div>\n",
       "<style scoped>\n",
       "    .dataframe tbody tr th:only-of-type {\n",
       "        vertical-align: middle;\n",
       "    }\n",
       "\n",
       "    .dataframe tbody tr th {\n",
       "        vertical-align: top;\n",
       "    }\n",
       "\n",
       "    .dataframe thead th {\n",
       "        text-align: right;\n",
       "    }\n",
       "</style>\n",
       "<table border=\"1\" class=\"dataframe\">\n",
       "  <thead>\n",
       "    <tr style=\"text-align: right;\">\n",
       "      <th></th>\n",
       "      <th>entity_counts</th>\n",
       "    </tr>\n",
       "  </thead>\n",
       "  <tbody>\n",
       "    <tr>\n",
       "      <th>language</th>\n",
       "      <td>3</td>\n",
       "    </tr>\n",
       "    <tr>\n",
       "      <th>functional_concept</th>\n",
       "      <td>6</td>\n",
       "    </tr>\n",
       "    <tr>\n",
       "      <th>molecular_sequence</th>\n",
       "      <td>7</td>\n",
       "    </tr>\n",
       "    <tr>\n",
       "      <th>carbohydrate_sequence</th>\n",
       "      <td>7</td>\n",
       "    </tr>\n",
       "    <tr>\n",
       "      <th>amino_acid_sequence</th>\n",
       "      <td>7</td>\n",
       "    </tr>\n",
       "    <tr>\n",
       "      <th>...</th>\n",
       "      <td>...</td>\n",
       "    </tr>\n",
       "    <tr>\n",
       "      <th>mental_or_behavioral_dysfunction</th>\n",
       "      <td>295</td>\n",
       "    </tr>\n",
       "    <tr>\n",
       "      <th>experimental_model_of_disease</th>\n",
       "      <td>299</td>\n",
       "    </tr>\n",
       "    <tr>\n",
       "      <th>disease_or_syndrome</th>\n",
       "      <td>300</td>\n",
       "    </tr>\n",
       "    <tr>\n",
       "      <th>pathologic_function</th>\n",
       "      <td>304</td>\n",
       "    </tr>\n",
       "    <tr>\n",
       "      <th>cell_or_molecular_dysfunction</th>\n",
       "      <td>306</td>\n",
       "    </tr>\n",
       "  </tbody>\n",
       "</table>\n",
       "<p>135 rows × 1 columns</p>\n",
       "</div>"
      ],
      "text/plain": [
       "                                  entity_counts\n",
       "language                                      3\n",
       "functional_concept                            6\n",
       "molecular_sequence                            7\n",
       "carbohydrate_sequence                         7\n",
       "amino_acid_sequence                           7\n",
       "...                                         ...\n",
       "mental_or_behavioral_dysfunction            295\n",
       "experimental_model_of_disease               299\n",
       "disease_or_syndrome                         300\n",
       "pathologic_function                         304\n",
       "cell_or_molecular_dysfunction               306\n",
       "\n",
       "[135 rows x 1 columns]"
      ]
     },
     "execution_count": 166,
     "metadata": {},
     "output_type": "execute_result"
    }
   ],
   "source": [
    "df_entity_counts = pd.DataFrame.from_dict({\"entity_counts\": entity_counts_train}).sort_values(\"entity_counts\")\n",
    "df_entity_counts"
   ]
  },
  {
   "cell_type": "code",
   "execution_count": 167,
   "metadata": {
    "execution": {
     "iopub.execute_input": "2021-06-29T14:00:23.253861Z",
     "iopub.status.busy": "2021-06-29T14:00:23.253861Z",
     "iopub.status.idle": "2021-06-29T14:00:23.281834Z",
     "shell.execute_reply": "2021-06-29T14:00:23.280841Z",
     "shell.execute_reply.started": "2021-06-29T14:00:23.253861Z"
    }
   },
   "outputs": [
    {
     "data": {
      "text/html": [
       "<div>\n",
       "<style scoped>\n",
       "    .dataframe tbody tr th:only-of-type {\n",
       "        vertical-align: middle;\n",
       "    }\n",
       "\n",
       "    .dataframe tbody tr th {\n",
       "        vertical-align: top;\n",
       "    }\n",
       "\n",
       "    .dataframe thead th {\n",
       "        text-align: right;\n",
       "    }\n",
       "</style>\n",
       "<table border=\"1\" class=\"dataframe\">\n",
       "  <thead>\n",
       "    <tr style=\"text-align: right;\">\n",
       "      <th></th>\n",
       "      <th>relation_counts</th>\n",
       "    </tr>\n",
       "  </thead>\n",
       "  <tbody>\n",
       "    <tr>\n",
       "      <th>derivative_of</th>\n",
       "      <td>1</td>\n",
       "    </tr>\n",
       "    <tr>\n",
       "      <th>practices</th>\n",
       "      <td>2</td>\n",
       "    </tr>\n",
       "    <tr>\n",
       "      <th>interconnects</th>\n",
       "      <td>2</td>\n",
       "    </tr>\n",
       "    <tr>\n",
       "      <th>conceptually_related_to</th>\n",
       "      <td>2</td>\n",
       "    </tr>\n",
       "    <tr>\n",
       "      <th>developmental_form_of</th>\n",
       "      <td>4</td>\n",
       "    </tr>\n",
       "    <tr>\n",
       "      <th>connected_to</th>\n",
       "      <td>4</td>\n",
       "    </tr>\n",
       "    <tr>\n",
       "      <th>adjacent_to</th>\n",
       "      <td>6</td>\n",
       "    </tr>\n",
       "    <tr>\n",
       "      <th>surrounds</th>\n",
       "      <td>6</td>\n",
       "    </tr>\n",
       "    <tr>\n",
       "      <th>manages</th>\n",
       "      <td>6</td>\n",
       "    </tr>\n",
       "    <tr>\n",
       "      <th>consists_of</th>\n",
       "      <td>9</td>\n",
       "    </tr>\n",
       "    <tr>\n",
       "      <th>contains</th>\n",
       "      <td>11</td>\n",
       "    </tr>\n",
       "    <tr>\n",
       "      <th>conceptual_part_of</th>\n",
       "      <td>15</td>\n",
       "    </tr>\n",
       "    <tr>\n",
       "      <th>method_of</th>\n",
       "      <td>20</td>\n",
       "    </tr>\n",
       "    <tr>\n",
       "      <th>ingredient_of</th>\n",
       "      <td>22</td>\n",
       "    </tr>\n",
       "    <tr>\n",
       "      <th>indicates</th>\n",
       "      <td>23</td>\n",
       "    </tr>\n",
       "    <tr>\n",
       "      <th>prevents</th>\n",
       "      <td>25</td>\n",
       "    </tr>\n",
       "    <tr>\n",
       "      <th>degree_of</th>\n",
       "      <td>27</td>\n",
       "    </tr>\n",
       "    <tr>\n",
       "      <th>carries_out</th>\n",
       "      <td>30</td>\n",
       "    </tr>\n",
       "    <tr>\n",
       "      <th>exhibits</th>\n",
       "      <td>33</td>\n",
       "    </tr>\n",
       "    <tr>\n",
       "      <th>diagnoses</th>\n",
       "      <td>34</td>\n",
       "    </tr>\n",
       "    <tr>\n",
       "      <th>property_of</th>\n",
       "      <td>35</td>\n",
       "    </tr>\n",
       "    <tr>\n",
       "      <th>analyzes</th>\n",
       "      <td>38</td>\n",
       "    </tr>\n",
       "    <tr>\n",
       "      <th>treats</th>\n",
       "      <td>42</td>\n",
       "    </tr>\n",
       "    <tr>\n",
       "      <th>co-occurs_with</th>\n",
       "      <td>48</td>\n",
       "    </tr>\n",
       "    <tr>\n",
       "      <th>measurement_of</th>\n",
       "      <td>49</td>\n",
       "    </tr>\n",
       "    <tr>\n",
       "      <th>assesses_effect_of</th>\n",
       "      <td>51</td>\n",
       "    </tr>\n",
       "    <tr>\n",
       "      <th>uses</th>\n",
       "      <td>55</td>\n",
       "    </tr>\n",
       "    <tr>\n",
       "      <th>evaluation_of</th>\n",
       "      <td>56</td>\n",
       "    </tr>\n",
       "    <tr>\n",
       "      <th>precedes</th>\n",
       "      <td>57</td>\n",
       "    </tr>\n",
       "    <tr>\n",
       "      <th>occurs_in</th>\n",
       "      <td>71</td>\n",
       "    </tr>\n",
       "    <tr>\n",
       "      <th>performs</th>\n",
       "      <td>73</td>\n",
       "    </tr>\n",
       "    <tr>\n",
       "      <th>disrupts</th>\n",
       "      <td>127</td>\n",
       "    </tr>\n",
       "    <tr>\n",
       "      <th>measures</th>\n",
       "      <td>145</td>\n",
       "    </tr>\n",
       "    <tr>\n",
       "      <th>manifestation_of</th>\n",
       "      <td>153</td>\n",
       "    </tr>\n",
       "    <tr>\n",
       "      <th>part_of</th>\n",
       "      <td>157</td>\n",
       "    </tr>\n",
       "    <tr>\n",
       "      <th>associated_with</th>\n",
       "      <td>198</td>\n",
       "    </tr>\n",
       "    <tr>\n",
       "      <th>complicates</th>\n",
       "      <td>219</td>\n",
       "    </tr>\n",
       "    <tr>\n",
       "      <th>produces</th>\n",
       "      <td>221</td>\n",
       "    </tr>\n",
       "    <tr>\n",
       "      <th>issue_in</th>\n",
       "      <td>223</td>\n",
       "    </tr>\n",
       "    <tr>\n",
       "      <th>location_of</th>\n",
       "      <td>244</td>\n",
       "    </tr>\n",
       "    <tr>\n",
       "      <th>causes</th>\n",
       "      <td>283</td>\n",
       "    </tr>\n",
       "    <tr>\n",
       "      <th>interacts_with</th>\n",
       "      <td>363</td>\n",
       "    </tr>\n",
       "    <tr>\n",
       "      <th>process_of</th>\n",
       "      <td>369</td>\n",
       "    </tr>\n",
       "    <tr>\n",
       "      <th>isa</th>\n",
       "      <td>399</td>\n",
       "    </tr>\n",
       "    <tr>\n",
       "      <th>result_of</th>\n",
       "      <td>455</td>\n",
       "    </tr>\n",
       "    <tr>\n",
       "      <th>affects</th>\n",
       "      <td>803</td>\n",
       "    </tr>\n",
       "  </tbody>\n",
       "</table>\n",
       "</div>"
      ],
      "text/plain": [
       "                         relation_counts\n",
       "derivative_of                          1\n",
       "practices                              2\n",
       "interconnects                          2\n",
       "conceptually_related_to                2\n",
       "developmental_form_of                  4\n",
       "connected_to                           4\n",
       "adjacent_to                            6\n",
       "surrounds                              6\n",
       "manages                                6\n",
       "consists_of                            9\n",
       "contains                              11\n",
       "conceptual_part_of                    15\n",
       "method_of                             20\n",
       "ingredient_of                         22\n",
       "indicates                             23\n",
       "prevents                              25\n",
       "degree_of                             27\n",
       "carries_out                           30\n",
       "exhibits                              33\n",
       "diagnoses                             34\n",
       "property_of                           35\n",
       "analyzes                              38\n",
       "treats                                42\n",
       "co-occurs_with                        48\n",
       "measurement_of                        49\n",
       "assesses_effect_of                    51\n",
       "uses                                  55\n",
       "evaluation_of                         56\n",
       "precedes                              57\n",
       "occurs_in                             71\n",
       "performs                              73\n",
       "disrupts                             127\n",
       "measures                             145\n",
       "manifestation_of                     153\n",
       "part_of                              157\n",
       "associated_with                      198\n",
       "complicates                          219\n",
       "produces                             221\n",
       "issue_in                             223\n",
       "location_of                          244\n",
       "causes                               283\n",
       "interacts_with                       363\n",
       "process_of                           369\n",
       "isa                                  399\n",
       "result_of                            455\n",
       "affects                              803"
      ]
     },
     "execution_count": 167,
     "metadata": {},
     "output_type": "execute_result"
    }
   ],
   "source": [
    "df_relation_counts = pd.DataFrame.from_dict({\"relation_counts\": relation_counts_train}).sort_values(\"relation_counts\")\n",
    "df_relation_counts"
   ]
  },
  {
   "cell_type": "code",
   "execution_count": 198,
   "metadata": {
    "execution": {
     "iopub.execute_input": "2021-06-29T14:14:09.706737Z",
     "iopub.status.busy": "2021-06-29T14:14:09.706737Z",
     "iopub.status.idle": "2021-06-29T14:14:09.929738Z",
     "shell.execute_reply": "2021-06-29T14:14:09.928738Z",
     "shell.execute_reply.started": "2021-06-29T14:14:09.706737Z"
    }
   },
   "outputs": [
    {
     "data": {
      "image/png": "[encoded data removed]",
      "text/plain": [
       "<Figure size 432x288 with 1 Axes>"
      ]
     },
     "metadata": {
      "needs_background": "light"
     },
     "output_type": "display_data"
    }
   ],
   "source": [
    "sns.boxenplot(x=df_entity_counts[\"entity_counts\"])\n",
    "plt.show()"
   ]
  },
  {
   "cell_type": "code",
   "execution_count": 197,
   "metadata": {
    "execution": {
     "iopub.execute_input": "2021-06-29T14:14:05.041180Z",
     "iopub.status.busy": "2021-06-29T14:14:05.040180Z",
     "iopub.status.idle": "2021-06-29T14:14:05.132179Z",
     "shell.execute_reply": "2021-06-29T14:14:05.132179Z",
     "shell.execute_reply.started": "2021-06-29T14:14:05.041180Z"
    }
   },
   "outputs": [
    {
     "data": {
      "image/png": "[encoded data removed]",
      "text/plain": [
       "<Figure size 432x288 with 1 Axes>"
      ]
     },
     "metadata": {
      "needs_background": "light"
     },
     "output_type": "display_data"
    }
   ],
   "source": [
    "sns.boxenplot(x=df_relation_counts[\"relation_counts\"])\n",
    "plt.show()"
   ]
  },
  {
   "cell_type": "code",
   "execution_count": null,
   "metadata": {},
   "outputs": [],
   "source": []
  }
 ],
 "metadata": {
  "kernelspec": {
   "display_name": "Python 3",
   "language": "python",
   "name": "python3"
  },
  "language_info": {
   "codemirror_mode": {
    "name": "ipython",
    "version": 3
   },
   "file_extension": ".py",
   "mimetype": "text/x-python",
   "name": "python",
   "nbconvert_exporter": "python",
   "pygments_lexer": "ipython3",
   "version": "3.8.3"
  }
 },
 "nbformat": 4,
 "nbformat_minor": 4
}
